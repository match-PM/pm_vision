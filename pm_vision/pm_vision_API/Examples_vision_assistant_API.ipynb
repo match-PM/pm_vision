{
 "cells": [
  {
   "attachments": {},
   "cell_type": "markdown",
   "metadata": {},
   "source": [
    "# Imports"
   ]
  },
  {
   "cell_type": "code",
   "execution_count": 1,
   "metadata": {},
   "outputs": [],
   "source": [
    "from vision_assistant_API import *"
   ]
  },
  {
   "cell_type": "code",
   "execution_count": 2,
   "metadata": {},
   "outputs": [
    {
     "name": "stdout",
     "output_type": "stream",
     "text": [
      "Vision assistant path config loaded!\n",
      "Change of display time sucessful!\n",
      "Change of display time sucessful!\n",
      "Current Process ID:94183b94-116d-438a-9e18-766f27b99cff\n",
      "Waiting for Vision assistant to finish!\n",
      "###### Vision Results #####\n",
      "Process Name: process_demo.json\n",
      "Vision OK?: True\n",
      "Vision Crossvalidation OK?: True\n",
      "Process UUID: 94183b94-116d-438a-9e18-766f27b99cff\n",
      "Vision Assistant API Test sucessfull!\n"
     ]
    }
   ],
   "source": [
    "my_vision_assistant = vision_assistant_API()\n",
    "VisionOK, _ = my_vision_assistant.run_vision(image_display_time=1)\n",
    "#VisionOK, _ = my_vision_assistant.run_vision( process_file = \"process_demo.json\", camera_config_file = \"webcam_config.yaml\")\n",
    "if VisionOK:\n",
    "    #print(my_vision_assistant.vision_results_list)\n",
    "    print(\"Vision Assistant API Test sucessfull!\")\n",
    "else:\n",
    "    print(\"Vision Assistant API Test failed!\")"
   ]
  },
  {
   "cell_type": "code",
   "execution_count": 3,
   "metadata": {},
   "outputs": [
    {
     "name": "stdout",
     "output_type": "stream",
     "text": [
      "Vision assistant path config loaded!\n",
      "Change of display time sucessful!\n"
     ]
    },
    {
     "ename": "KeyboardInterrupt",
     "evalue": "",
     "output_type": "error",
     "traceback": [
      "\u001b[0;31m---------------------------------------------------------------------------\u001b[0m",
      "\u001b[0;31mKeyboardInterrupt\u001b[0m                         Traceback (most recent call last)",
      "Cell \u001b[0;32mIn[3], line 2\u001b[0m\n\u001b[1;32m      1\u001b[0m my_vision_assistant \u001b[39m=\u001b[39m vision_assistant_API()\n\u001b[0;32m----> 2\u001b[0m my_vision_assistant\u001b[39m.\u001b[39;49mstart_vision_assistant( process_file \u001b[39m=\u001b[39;49m \u001b[39m\"\u001b[39;49m\u001b[39mprocess_demo.json\u001b[39;49m\u001b[39m\"\u001b[39;49m, camera_config_file \u001b[39m=\u001b[39;49m \u001b[39m\"\u001b[39;49m\u001b[39mwebcam_config.yaml\u001b[39;49m\u001b[39m\"\u001b[39;49m)\n",
      "File \u001b[0;32m~/ros2_ws/src/pm_vision/pm_vision/pm_vision_API/vision_assistant_API.py:224\u001b[0m, in \u001b[0;36mvision_assistant_API.start_vision_assistant\u001b[0;34m(self, process_file, camera_config_file, open_new_terminal)\u001b[0m\n\u001b[1;32m    218\u001b[0m Vision_exec_Comand\u001b[39m=\u001b[39m(\u001b[39m'\u001b[39m\u001b[39mros2 run pm_vision vision_assistant --ros-args \u001b[39m\u001b[39m'\u001b[39m \u001b[39m+\u001b[39m \n\u001b[1;32m    219\u001b[0m \u001b[39m'\u001b[39m\u001b[39m -p \u001b[39m\u001b[39m'\u001b[39m \u001b[39m+\u001b[39m \u001b[39m'\u001b[39m\u001b[39mprocess_filename:=\u001b[39m\u001b[39m'\u001b[39m \u001b[39m+\u001b[39m process_file \u001b[39m+\u001b[39m \n\u001b[1;32m    220\u001b[0m \u001b[39m'\u001b[39m\u001b[39m -p \u001b[39m\u001b[39m'\u001b[39m \u001b[39m+\u001b[39m \u001b[39m'\u001b[39m\u001b[39mopen_process_file:=True\u001b[39m\u001b[39m'\u001b[39m \u001b[39m+\u001b[39m \n\u001b[1;32m    221\u001b[0m \u001b[39m'\u001b[39m\u001b[39m -p \u001b[39m\u001b[39m'\u001b[39m \u001b[39m+\u001b[39m \u001b[39m'\u001b[39m\u001b[39mcamera_config_filename:=\u001b[39m\u001b[39m'\u001b[39m \u001b[39m+\u001b[39m camera_config_file )\n\u001b[1;32m    223\u001b[0m \u001b[39mif\u001b[39;00m \u001b[39mnot\u001b[39;00m open_new_terminal:\n\u001b[0;32m--> 224\u001b[0m     node_terminal_output \u001b[39m=\u001b[39m subprocess\u001b[39m.\u001b[39;49mgetstatusoutput(Vision_exec_Comand)\n\u001b[1;32m    225\u001b[0m \u001b[39melse\u001b[39;00m:\n\u001b[1;32m    226\u001b[0m     process \u001b[39m=\u001b[39m subprocess\u001b[39m.\u001b[39mPopen(\n\u001b[1;32m    227\u001b[0m         \u001b[39m\"\u001b[39m\u001b[39mgnome-terminal -- \u001b[39m\u001b[39m\"\u001b[39m\u001b[39m+\u001b[39mVision_exec_Comand, \n\u001b[1;32m    228\u001b[0m         stdout\u001b[39m=\u001b[39msubprocess\u001b[39m.\u001b[39mPIPE,\n\u001b[1;32m    229\u001b[0m         stderr\u001b[39m=\u001b[39m\u001b[39mNone\u001b[39;00m,\n\u001b[1;32m    230\u001b[0m         shell\u001b[39m=\u001b[39m\u001b[39mTrue\u001b[39;00m\n\u001b[1;32m    231\u001b[0m     )\n",
      "File \u001b[0;32m/usr/lib/python3.10/subprocess.py:624\u001b[0m, in \u001b[0;36mgetstatusoutput\u001b[0;34m(cmd)\u001b[0m\n\u001b[1;32m    603\u001b[0m \u001b[39m\"\"\"Return (exitcode, output) of executing cmd in a shell.\u001b[39;00m\n\u001b[1;32m    604\u001b[0m \n\u001b[1;32m    605\u001b[0m \u001b[39mExecute the string 'cmd' in a shell with 'check_output' and\u001b[39;00m\n\u001b[0;32m   (...)\u001b[0m\n\u001b[1;32m    621\u001b[0m \u001b[39m(-15, '')\u001b[39;00m\n\u001b[1;32m    622\u001b[0m \u001b[39m\"\"\"\u001b[39;00m\n\u001b[1;32m    623\u001b[0m \u001b[39mtry\u001b[39;00m:\n\u001b[0;32m--> 624\u001b[0m     data \u001b[39m=\u001b[39m check_output(cmd, shell\u001b[39m=\u001b[39;49m\u001b[39mTrue\u001b[39;49;00m, text\u001b[39m=\u001b[39;49m\u001b[39mTrue\u001b[39;49;00m, stderr\u001b[39m=\u001b[39;49mSTDOUT)\n\u001b[1;32m    625\u001b[0m     exitcode \u001b[39m=\u001b[39m \u001b[39m0\u001b[39m\n\u001b[1;32m    626\u001b[0m \u001b[39mexcept\u001b[39;00m CalledProcessError \u001b[39mas\u001b[39;00m ex:\n",
      "File \u001b[0;32m/usr/lib/python3.10/subprocess.py:420\u001b[0m, in \u001b[0;36mcheck_output\u001b[0;34m(timeout, *popenargs, **kwargs)\u001b[0m\n\u001b[1;32m    417\u001b[0m         empty \u001b[39m=\u001b[39m \u001b[39mb\u001b[39m\u001b[39m'\u001b[39m\u001b[39m'\u001b[39m\n\u001b[1;32m    418\u001b[0m     kwargs[\u001b[39m'\u001b[39m\u001b[39minput\u001b[39m\u001b[39m'\u001b[39m] \u001b[39m=\u001b[39m empty\n\u001b[0;32m--> 420\u001b[0m \u001b[39mreturn\u001b[39;00m run(\u001b[39m*\u001b[39;49mpopenargs, stdout\u001b[39m=\u001b[39;49mPIPE, timeout\u001b[39m=\u001b[39;49mtimeout, check\u001b[39m=\u001b[39;49m\u001b[39mTrue\u001b[39;49;00m,\n\u001b[1;32m    421\u001b[0m            \u001b[39m*\u001b[39;49m\u001b[39m*\u001b[39;49mkwargs)\u001b[39m.\u001b[39mstdout\n",
      "File \u001b[0;32m/usr/lib/python3.10/subprocess.py:503\u001b[0m, in \u001b[0;36mrun\u001b[0;34m(input, capture_output, timeout, check, *popenargs, **kwargs)\u001b[0m\n\u001b[1;32m    501\u001b[0m \u001b[39mwith\u001b[39;00m Popen(\u001b[39m*\u001b[39mpopenargs, \u001b[39m*\u001b[39m\u001b[39m*\u001b[39mkwargs) \u001b[39mas\u001b[39;00m process:\n\u001b[1;32m    502\u001b[0m     \u001b[39mtry\u001b[39;00m:\n\u001b[0;32m--> 503\u001b[0m         stdout, stderr \u001b[39m=\u001b[39m process\u001b[39m.\u001b[39;49mcommunicate(\u001b[39minput\u001b[39;49m, timeout\u001b[39m=\u001b[39;49mtimeout)\n\u001b[1;32m    504\u001b[0m     \u001b[39mexcept\u001b[39;00m TimeoutExpired \u001b[39mas\u001b[39;00m exc:\n\u001b[1;32m    505\u001b[0m         process\u001b[39m.\u001b[39mkill()\n",
      "File \u001b[0;32m/usr/lib/python3.10/subprocess.py:1139\u001b[0m, in \u001b[0;36mPopen.communicate\u001b[0;34m(self, input, timeout)\u001b[0m\n\u001b[1;32m   1137\u001b[0m     \u001b[39mself\u001b[39m\u001b[39m.\u001b[39m_stdin_write(\u001b[39minput\u001b[39m)\n\u001b[1;32m   1138\u001b[0m \u001b[39melif\u001b[39;00m \u001b[39mself\u001b[39m\u001b[39m.\u001b[39mstdout:\n\u001b[0;32m-> 1139\u001b[0m     stdout \u001b[39m=\u001b[39m \u001b[39mself\u001b[39;49m\u001b[39m.\u001b[39;49mstdout\u001b[39m.\u001b[39;49mread()\n\u001b[1;32m   1140\u001b[0m     \u001b[39mself\u001b[39m\u001b[39m.\u001b[39mstdout\u001b[39m.\u001b[39mclose()\n\u001b[1;32m   1141\u001b[0m \u001b[39melif\u001b[39;00m \u001b[39mself\u001b[39m\u001b[39m.\u001b[39mstderr:\n",
      "\u001b[0;31mKeyboardInterrupt\u001b[0m: "
     ]
    }
   ],
   "source": [
    "my_vision_assistant = vision_assistant_API()\n",
    "my_vision_assistant.start_vision_assistant( process_file = \"process_demo.json\", camera_config_file = \"webcam_config.yaml\")\n"
   ]
  }
 ],
 "metadata": {
  "kernelspec": {
   "display_name": "Python 3",
   "language": "python",
   "name": "python3"
  },
  "language_info": {
   "codemirror_mode": {
    "name": "ipython",
    "version": 3
   },
   "file_extension": ".py",
   "mimetype": "text/x-python",
   "name": "python",
   "nbconvert_exporter": "python",
   "pygments_lexer": "ipython3",
   "version": "3.10.6"
  },
  "orig_nbformat": 4
 },
 "nbformat": 4,
 "nbformat_minor": 2
}
